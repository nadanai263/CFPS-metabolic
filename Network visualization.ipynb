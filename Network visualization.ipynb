{
 "cells": [
  {
   "cell_type": "code",
   "execution_count": 5,
   "metadata": {},
   "outputs": [],
   "source": [
    "using DelimitedFiles\n",
    "using LightGraphs\n",
    "\n",
    "PATH_NET = pwd()*\"/model/network/Network.dat\"\n",
    "S = float(open(readdlm,PATH_NET));"
   ]
  },
  {
   "cell_type": "code",
   "execution_count": 6,
   "metadata": {},
   "outputs": [
    {
     "ename": "ArgumentError",
     "evalue": "ArgumentError: Adjacency / distance matrices must be square",
     "output_type": "error",
     "traceback": [
      "ArgumentError: Adjacency / distance matrices must be square",
      "",
      "Stacktrace:",
      " [1] SimpleGraph{Int64}(::Array{Float64,2}) at /home/nadanai/.julia/packages/LightGraphs/siFgP/src/SimpleGraphs/simplegraph.jl:90",
      " [2] SimpleGraph(::Array{Float64,2}) at /home/nadanai/.julia/packages/LightGraphs/siFgP/src/SimpleGraphs/simplegraph.jl:85",
      " [3] top-level scope at In[6]:1"
     ]
    }
   ],
   "source": [
    "g = SimpleGraph(S)"
   ]
  },
  {
   "cell_type": "code",
   "execution_count": 7,
   "metadata": {},
   "outputs": [
    {
     "data": {
      "text/plain": [
       "352×408 Array{Float64,2}:\n",
       " 1.0  -1.0   1.0   0.0   0.0   0.0  …   0.0   0.0   0.0   0.0   0.0   0.0\n",
       " 0.0   1.0  -1.0  -1.0   1.0   0.0      0.0   0.0   0.0   0.0   0.0   0.0\n",
       " 0.0   0.0   0.0   1.0  -1.0  -1.0      0.0   0.0   0.0   0.0   0.0   0.0\n",
       " 0.0   0.0   0.0   0.0   0.0   1.0      0.0   0.0   0.0   0.0   0.0   0.0\n",
       " 0.0   0.0   0.0   0.0   0.0   1.0      0.0   0.0   0.0   0.0   0.0   0.0\n",
       " 0.0   0.0   0.0   0.0   0.0   0.0  …   0.0   0.0   0.0   0.0   0.0   0.0\n",
       " 0.0   0.0   0.0   0.0   0.0   0.0      0.0   0.0   0.0   0.0   0.0   0.0\n",
       " 0.0   0.0   0.0   0.0   0.0   0.0      0.0   0.0   0.0   0.0   0.0   0.0\n",
       " 0.0   0.0   0.0   0.0   0.0   0.0      0.0   0.0   0.0   0.0   0.0   0.0\n",
       " 0.0   0.0   0.0   0.0   0.0   0.0      0.0   0.0   0.0   0.0   0.0   0.0\n",
       " 0.0   0.0   0.0   0.0   0.0   0.0  …   0.0   0.0   0.0   0.0   0.0   0.0\n",
       " 0.0   0.0   0.0   0.0   0.0   0.0      0.0   0.0   0.0   0.0   0.0   0.0\n",
       " 0.0   0.0   0.0   0.0   0.0   0.0      0.0   0.0   0.0   0.0   0.0   0.0\n",
       " ⋮                             ⋮    ⋱                     ⋮          \n",
       " 0.0   0.0   0.0   0.0   0.0   0.0  …   0.0   0.0   0.0   0.0   0.0   0.0\n",
       " 0.0   0.0   0.0   0.0   0.0   0.0      0.0   0.0   0.0   0.0   0.0   0.0\n",
       " 0.0   0.0   0.0   0.0   0.0   0.0      0.0   0.0   0.0   0.0   0.0   0.0\n",
       " 0.0   0.0   0.0   0.0   0.0   0.0      0.0   0.0   0.0   0.0   0.0   0.0\n",
       " 0.0   0.0   0.0   0.0   0.0   0.0      0.0   0.0   0.0   0.0   0.0   0.0\n",
       " 0.0   0.0   0.0   0.0   0.0   0.0  …   0.0   0.0   0.0   0.0   0.0   0.0\n",
       " 0.0   0.0   0.0   0.0   0.0   0.0     -1.0   0.0   0.0   0.0   0.0   0.0\n",
       " 0.0   0.0   0.0   0.0   0.0   0.0      0.0  -1.0   0.0   0.0   0.0   0.0\n",
       " 0.0   0.0   0.0   0.0   0.0   0.0      0.0   0.0  -1.0   0.0   0.0   0.0\n",
       " 0.0   0.0   0.0   0.0   0.0   0.0      0.0   0.0   0.0  -1.0   0.0   0.0\n",
       " 0.0   0.0   0.0   0.0   0.0   0.0  …   0.0   0.0   0.0   0.0  -1.0   0.0\n",
       " 0.0   0.0   0.0   0.0   0.0   0.0      0.0   0.0   0.0   0.0   0.0  -1.0"
      ]
     },
     "execution_count": 7,
     "metadata": {},
     "output_type": "execute_result"
    }
   ],
   "source": [
    "S"
   ]
  },
  {
   "cell_type": "code",
   "execution_count": null,
   "metadata": {},
   "outputs": [],
   "source": []
  }
 ],
 "metadata": {
  "kernelspec": {
   "display_name": "Julia 1.4.2",
   "language": "julia",
   "name": "julia-1.4"
  },
  "language_info": {
   "file_extension": ".jl",
   "mimetype": "application/julia",
   "name": "julia",
   "version": "1.4.2"
  }
 },
 "nbformat": 4,
 "nbformat_minor": 4
}
