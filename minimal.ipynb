{
 "cells": [
  {
   "cell_type": "code",
   "execution_count": 1,
   "metadata": {},
   "outputs": [],
   "source": [
    "# Simulate the Python model\n",
    "\n",
    "from scipy.integrate import odeint\n",
    "import numpy as np\n",
    "import matplotlib.pyplot as plt\n",
    "import pandas as pd\n",
    "import os\n",
    "import tellurium as te"
   ]
  },
  {
   "cell_type": "code",
   "execution_count": 2,
   "metadata": {},
   "outputs": [
    {
     "name": "stdout",
     "output_type": "stream",
     "text": [
      "['atp', 'adp', 'nad', 'nadh', 'ppi', 'pppi', 'pep', 'pyr']\n",
      "[ 4.    0.    0.25  0.   25.    0.    0.    0.  ]\n",
      "['VmaxPyk', 'Keq11', 'Kadp11', 'Kpep11', 'Katp11', 'Kpyr11', 'VmaxPpase', 'Keq22', 'Kpppi22', 'Kppi22', 'VmaxNoxe', 'Knadh23', 'Vmax']\n",
      "[1.0, 5000.0, 0.3, 0.3, 1.0, 1.0, 20.0, 10.0, 0.1, 0.1, 1.0, 0.1, 1.0]\n",
      "\n",
      "v_J11 = VmaxPyk*(pep*adp-pyr*atp/Keq11)/(Kadp11*Kpep11)*1/((1+adp/Kadp11)*(1+pep/Kpep11)+(1+atp/Katp11)*(1+pyr/Kpyr11)-1)\n",
      "v_J22 = VmaxPpase*(pppi-ppi*ppi/Keq22)/Kpppi22*1/(1+pppi/Kpppi22+(1+ppi/Kppi22)*(1+ppi/Kppi22)-1)\n",
      "v_J23 = VmaxNoxe*nadh/(Knadh23+nadh)\n",
      "v_J24 = Vmax*atp\n",
      "\n",
      "datp/dt = 3.0*v_J11 - v_J24\n",
      "dadp/dt = -3.0*v_J11 + v_J24\n",
      "dnad/dt = 4.0*v_J23\n",
      "dnadh/dt = -4.0*v_J23\n",
      "dppi/dt = 4.0*v_J22 + v_J24\n",
      "dpppi/dt = -2.0*v_J22\n",
      "dpep/dt = -3.0*v_J11\n",
      "dpyr/dt = 3.0*v_J11\n",
      "\n"
     ]
    }
   ],
   "source": [
    "run parsemodel.py"
   ]
  },
  {
   "cell_type": "code",
   "execution_count": 8,
   "metadata": {},
   "outputs": [
    {
     "data": {
      "image/png": "[encoded data removed]",
      "text/plain": [
       "<Figure size 432x288 with 1 Axes>"
      ]
     },
     "metadata": {
      "needs_background": "light"
     },
     "output_type": "display_data"
    }
   ],
   "source": [
    "import model_Korman.minimal as Korman\n",
    "PATH_TO_OUTPUT = \"./modeloutput/\"\n",
    "FILENAME = \"korman.csv\"\n",
    "\n",
    "# Do not use dict as ordering is not guaranteed. Use list instead.\n",
    "y0 = np.array(Korman.valuesVar)\n",
    "params = np.array(Korman.valuesPar)\n",
    "TMAX = 20000 # s\n",
    "NSTEPS = 10000\n",
    "\n",
    "keysVar = ['atp','adp','nad','nadh','ppi','pppi','pep','pyr']\n",
    "y0 = [4.0,0.0,0.25,0.0,25.0,0.0,28.0,0.0]\n",
    "\n",
    "\n",
    "time = np.linspace(0,TMAX,NSTEPS)\n",
    "sol = odeint(Korman.model, y0, time, args=(params,),atol=1e-11) # Scipy solver\n",
    "\n",
    "# Plot and save plot\n",
    "for i in range(sol.shape[1]):\n",
    "    plt.plot(time,sol[:,i], label=Korman.keysVar[i]);\n",
    "plt.xlabel('t (s)'); plt.ylabel('concs (mM)'); plt.legend()   \n",
    "#plt.savefig(PATH_TO_OUTPUT+'plot.pdf',transparent=True)\n",
    "plt.show() \n",
    "\n",
    "# Save data\n",
    "#df = pd.DataFrame(sol)\n",
    "#df.to_csv(PATH_TO_OUTPUT+FILENAME, index=None)"
   ]
  },
  {
   "cell_type": "code",
   "execution_count": 9,
   "metadata": {},
   "outputs": [
    {
     "data": {
      "text/plain": [
       "[<matplotlib.lines.Line2D at 0x7f98c7011820>]"
      ]
     },
     "execution_count": 9,
     "metadata": {},
     "output_type": "execute_result"
    },
    {
     "data": {
      "image/png": "[encoded data removed]",
      "text/plain": [
       "<Figure size 432x288 with 1 Axes>"
      ]
     },
     "metadata": {
      "needs_background": "light"
     },
     "output_type": "display_data"
    }
   ],
   "source": [
    "# conservation of mass\n",
    "atp = sol[:,0]\n",
    "adp = sol[:,1]\n",
    "nad = sol[:,2]\n",
    "nadh = sol[:,3]\n",
    "\n",
    "ppi = sol[:,4]\n",
    "pppi = sol[:,5]\n",
    "\n",
    "pep = sol[:,6]\n",
    "pyr = sol[:,7]\n",
    "\n",
    "    \n",
    "carbon = 3*pep+3*pyr\n",
    "plt.plot(carbon)"
   ]
  },
  {
   "cell_type": "code",
   "execution_count": 10,
   "metadata": {},
   "outputs": [
    {
     "data": {
      "text/plain": [
       "[<matplotlib.lines.Line2D at 0x7f98c6e7e4f0>]"
      ]
     },
     "execution_count": 10,
     "metadata": {},
     "output_type": "execute_result"
    },
    {
     "data": {
      "image/png": "[encoded data removed]",
      "text/plain": [
       "<Figure size 432x288 with 1 Axes>"
      ]
     },
     "metadata": {
      "needs_background": "light"
     },
     "output_type": "display_data"
    }
   ],
   "source": [
    "phosphate = 3*atp+2*adp+pep+2*pppi+ppi\n",
    "plt.plot(phosphate)"
   ]
  },
  {
   "cell_type": "code",
   "execution_count": 11,
   "metadata": {},
   "outputs": [
    {
     "data": {
      "image/png": "[encoded data removed]",
      "text/plain": [
       "<Figure size 432x288 with 1 Axes>"
      ]
     },
     "metadata": {
      "needs_background": "light"
     },
     "output_type": "display_data"
    }
   ],
   "source": [
    "# Plot and save plot\n",
    "\n",
    "sel = [6,7]\n",
    "for i in sel:\n",
    "    plt.plot(time,sol[:,i], label=Korman.keysVar[i]);\n",
    "plt.xlabel('t (s)'); plt.ylabel('concs (mM)'); plt.legend()   \n",
    "#plt.savefig(PATH_TO_OUTPUT+'plotCOF.pdf',transparent=True)\n",
    "plt.show() "
   ]
  },
  {
   "cell_type": "code",
   "execution_count": 12,
   "metadata": {},
   "outputs": [
    {
     "data": {
      "image/png": "[encoded data removed]",
      "text/plain": [
       "<Figure size 432x288 with 1 Axes>"
      ]
     },
     "metadata": {
      "needs_background": "light"
     },
     "output_type": "display_data"
    }
   ],
   "source": [
    "# Plot and save plot\n",
    "\n",
    "sel = [0,1]\n",
    "for i in sel:\n",
    "    plt.plot(time,sol[:,i], label=Korman.keysVar[i]);\n",
    "plt.xlabel('t (s)'); plt.ylabel('concs (mM)'); plt.legend()   \n",
    "#plt.savefig(PATH_TO_OUTPUT+'plotCOF.pdf',transparent=True)\n",
    "plt.show() "
   ]
  },
  {
   "cell_type": "code",
   "execution_count": null,
   "metadata": {},
   "outputs": [],
   "source": []
  },
  {
   "cell_type": "code",
   "execution_count": null,
   "metadata": {},
   "outputs": [],
   "source": []
  }
 ],
 "metadata": {
  "kernelspec": {
   "display_name": "nllab-TXTLBasicModel",
   "language": "python",
   "name": "nllab-txtlbasicmodel"
  },
  "language_info": {
   "codemirror_mode": {
    "name": "ipython",
    "version": 3
   },
   "file_extension": ".py",
   "mimetype": "text/x-python",
   "name": "python",
   "nbconvert_exporter": "python",
   "pygments_lexer": "ipython3",
   "version": "3.8.5"
  }
 },
 "nbformat": 4,
 "nbformat_minor": 4
}
